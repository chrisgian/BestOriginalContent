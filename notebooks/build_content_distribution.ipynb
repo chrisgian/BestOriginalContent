{
  "nbformat": 4,
  "nbformat_minor": 0,
  "metadata": {
    "colab": {
      "name": "build_content_distribution",
      "version": "0.3.2",
      "views": {},
      "default_view": {},
      "provenance": [],
      "collapsed_sections": []
    },
    "kernelspec": {
      "display_name": "Python 3",
      "language": "python",
      "name": "python3"
    }
  },
  "cells": [
    {
      "metadata": {
        "id": "LEB8l8EE6NJX",
        "colab_type": "text"
      },
      "cell_type": "markdown",
      "source": [
        "Extract from:\n",
        "\n",
        "Data Sources:\n",
        "- [NF Source](https://en.wikipedia.org/wiki/List_of_original_programs_distributed_by_Netflix)\n",
        "- [HL Source](https://en.wikipedia.org/wiki/List_of_original_programs_distributed_by_Netflix)\n",
        "- [HBO Source](https://en.wikipedia.org/wiki/List_of_original_programs_distributed_by_Netflix)"
      ]
    },
    {
      "metadata": {
        "id": "ek5RuWAl6NJY",
        "colab_type": "code",
        "colab": {
          "autoexec": {
            "startup": false,
            "wait_interval": 0
          }
        }
      },
      "cell_type": "code",
      "source": [
        "import pandas as pd\n",
        "import numpy as np\n",
        "from bs4 import BeautifulSoup\n",
        "import requests\n",
        "import re"
      ],
      "execution_count": 0,
      "outputs": []
    },
    {
      "metadata": {
        "id": "AImbIZXaK1GK",
        "colab_type": "text"
      },
      "cell_type": "markdown",
      "source": [
        "Data Sources for OC"
      ]
    },
    {
      "metadata": {
        "id": "qaWwqO9n6NJc",
        "colab_type": "code",
        "colab": {
          "autoexec": {
            "startup": false,
            "wait_interval": 0
          }
        }
      },
      "cell_type": "code",
      "source": [
        "NF = 'https://en.wikipedia.org/wiki/List_of_original_programs_distributed_by_Netflix'\n",
        "HBO = ''\n",
        "HL = 'https://en.wikipedia.org/wiki/List_of_original_programs_distributed_by_Hulu'"
      ],
      "execution_count": 0,
      "outputs": []
    },
    {
      "metadata": {
        "id": "LjHIJN7VKpqd",
        "colab_type": "text"
      },
      "cell_type": "markdown",
      "source": [
        "Tools: \n",
        "- Get_Rotten: Extract Given URL"
      ]
    },
    {
      "metadata": {
        "id": "0kkQzzqCKhC2",
        "colab_type": "code",
        "colab": {
          "autoexec": {
            "startup": false,
            "wait_interval": 0
          }
        }
      },
      "cell_type": "code",
      "source": [
        "def get_rotten(rotten_loc):\n",
        "  finder = re.compile('[0-9]{1,3}')\n",
        "  missing = re.compile('Tomatometer Not Available...')\n",
        "\n",
        "  # Scrape\n",
        "  rotten_requested = requests.get(rotten_loc)\n",
        "  rotten_extract = rotten_requested.text\n",
        "  rotten_soup = BeautifulSoup(rotten_extract,'html5lib')\n",
        "  \n",
        "  # Check 404\n",
        "  if rotten_soup.find('h1').get_text().strip() == '404 - Not Found':\n",
        "    return {'url':rotten_loc, 'critic':'-', 'audience':'-','status':'404'}\n",
        " \n",
        "  else:\n",
        "    # Critic\n",
        "    try:\n",
        "      crit = rotten_soup.find('div',{'id':'all-critics-numbers'})\n",
        "      # Check if Missing\n",
        "      if missing.search(crit.get_text()):\n",
        "        crit = '-'\n",
        "      # Extract critic if not missing\n",
        "      else:\n",
        "        crit = finder.search(crit.get_text()).group(0)\n",
        "    # if fail\n",
        "    except:\n",
        "      crit = '-'\n",
        "    \n",
        "    # Extract Audience\n",
        "    try: \n",
        "      aud = rotten_soup.find('div',{'class':'audience-score meter'})\n",
        "      aud = finder.search(aud.get_text()).group(0)\n",
        "    # If Fail\n",
        "    except:\n",
        "      aud = '-'\n",
        "                            \n",
        "    return {'url':rotten_loc, 'critic':crit, 'audience':aud,'status':'success'}\n",
        "  \n",
        "  \n",
        "def get_wiki(wiki_loc):\n",
        "  wiki_requested = requests.get(wiki_loc)\n",
        "  wiki_extract = wiki_requested.text\n",
        "  wiki_soup = BeautifulSoup(wiki_extract,'html5lib')\n",
        "  wiki_tables = wiki_soup.findChildren('table')\n",
        "  wiki_row_collected = []\n",
        "\n",
        "  for table in wiki_tables:\n",
        "    wiki_rows = table.find_all('tr')\n",
        "    for row in wiki_rows:\n",
        "      row = row.find_all('a')\n",
        "      row = [i.get('href') for i in row]\n",
        "      wiki_row_collected += [row]\n",
        "  wiki_row_collected = [i for i in wiki_row_collected if len(i) != 0]\n",
        "  \n",
        "  return wiki_row_collected"
      ],
      "execution_count": 0,
      "outputs": []
    },
    {
      "metadata": {
        "id": "AH41-_ta8--f",
        "colab_type": "code",
        "colab": {
          "autoexec": {
            "startup": false,
            "wait_interval": 0
          }
        }
      },
      "cell_type": "code",
      "source": [
        "test_1 = get_wiki(wiki_loc='https://en.wikipedia.org/wiki/List_of_original_programs_distributed_by_Hulu')[0:10]\n",
        "test_2 = get_wiki(wiki_loc='https://en.wikipedia.org/wiki/List_of_original_programs_distributed_by_Netflix')[0:10]\n",
        "test_3 = get_wiki(wiki_loc='https://en.wikipedia.org/wiki/List_of_programs_broadcast_by_HBO')[0:10]\n",
        "test_4 = get_wiki(wiki_loc = 'https://en.wikipedia.org/wiki/List_of_original_programs_distributed_by_Amazon')[0:10]"
      ],
      "execution_count": 0,
      "outputs": []
    }
  ]
}