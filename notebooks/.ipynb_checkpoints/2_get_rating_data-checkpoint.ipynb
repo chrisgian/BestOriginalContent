{
 "cells": [
  {
   "cell_type": "markdown",
   "metadata": {
    "colab_type": "text",
    "id": "LEB8l8EE6NJX"
   },
   "source": [
    "Purpose:\n",
    "\n",
    "Rate Content from Wiki Data"
   ]
  },
  {
   "cell_type": "code",
   "execution_count": 51,
   "metadata": {
    "colab": {
     "autoexec": {
      "startup": false,
      "wait_interval": 0
     }
    },
    "colab_type": "code",
    "id": "ek5RuWAl6NJY"
   },
   "outputs": [],
   "source": [
    "import pandas as pd\n",
    "import numpy as np\n",
    "from bs4 import BeautifulSoup\n",
    "import requests\n",
    "import re\n",
    "import tqdm\n",
    "import matplotlib.pyplot as plt\n",
    "import pickle\n",
    "\n",
    "\n",
    "\n",
    "with open('../data/raw/data.pkl', 'rb') as file:\n",
    "    data = pickle.load(file)"
   ]
  },
  {
   "cell_type": "code",
   "execution_count": 52,
   "metadata": {
    "colab": {
     "autoexec": {
      "startup": false,
      "wait_interval": 0
     }
    },
    "colab_type": "code",
    "id": "0kkQzzqCKhC2"
   },
   "outputs": [],
   "source": [
    "def get_rotten(name):\n",
    "    \n",
    "    rotten_loc = 'https://www.rottentomatoes.com/tv/'+name\n",
    "    finder = re.compile('[0-9]{1,3}')\n",
    "    missing = re.compile('Tomatometer Not Available...')\n",
    "\n",
    "  # Scrape\n",
    "    rotten_requested = requests.get(rotten_loc)\n",
    "    rotten_extract = rotten_requested.text\n",
    "    rotten_soup = BeautifulSoup(rotten_extract,'html5lib')\n",
    "\n",
    "    # Check 404\n",
    "    if rotten_soup.find('h1').get_text().strip() == '404 - Not Found':\n",
    "        return {'url':rotten_loc, 'critic':'-', 'audience':'-','status':'404'}\n",
    "\n",
    "    else:\n",
    "    # Critic\n",
    "        try:\n",
    "            crit = rotten_soup.find('div',{'id':'all-critics-numbers'})\n",
    "            # Check if Missing\n",
    "            if missing.search(crit.get_text()):\n",
    "                crit = '-'\n",
    "            # Extract critic if not missing\n",
    "            else:\n",
    "                crit = finder.search(crit.get_text()).group(0)\n",
    "            # if fail\n",
    "        except:\n",
    "            crit = '-'\n",
    "\n",
    "# Extract Audience\n",
    "    try: \n",
    "        aud = rotten_soup.find('div',{'class':'audience-score meter'})\n",
    "        aud = finder.search(aud.get_text()).group(0)\n",
    "    # If Fail\n",
    "    except:\n",
    "        aud = '-'                     \n",
    "    return {'name':name,'url':rotten_loc, 'critic':crit, 'audience':aud,'status':'success'}\n",
    "\n",
    "\n",
    "def clean_for_rotten(to_frame):\n",
    "    regex = re.compile('[^0-9a-zA-Z]+')\n",
    "    regex_2 = re.compile('_{2}')\n",
    "\n",
    "    collect = []\n",
    "    for i in to_frame:\n",
    "        to_collect = regex.sub('_',i[0])\n",
    "        to_collect = regex_2.sub('_',to_collect)\n",
    "        collect += [str(to_collect).lower()]\n",
    "    return collect"
   ]
  },
  {
   "cell_type": "code",
   "execution_count": 54,
   "metadata": {},
   "outputs": [],
   "source": [
    "a = clean_for_rotten(data[0][3])\n",
    "b = clean_for_rotten(data[1][3])\n",
    "c = clean_for_rotten(data[2][3])\n",
    "d = clean_for_rotten(data[3][3])"
   ]
  },
  {
   "cell_type": "code",
   "execution_count": 10,
   "metadata": {},
   "outputs": [],
   "source": [
    "to_frame = data[0][3]"
   ]
  },
  {
   "cell_type": "code",
   "execution_count": 50,
   "metadata": {},
   "outputs": [
    {
     "data": {
      "text/plain": [
       "{'audience': '86',\n",
       " 'critic': '94',\n",
       " 'name': 'love',\n",
       " 'status': 'success',\n",
       " 'url': 'https://www.rottentomatoes.com/tv/love'}"
      ]
     },
     "execution_count": 50,
     "metadata": {},
     "output_type": "execute_result"
    }
   ],
   "source": [
    "get_rotten(name='love')"
   ]
  },
  {
   "cell_type": "code",
   "execution_count": null,
   "metadata": {},
   "outputs": [],
   "source": [
    "test_these = [for i in ]"
   ]
  }
 ],
 "metadata": {
  "colab": {
   "collapsed_sections": [],
   "default_view": {},
   "name": "build_content_distribution",
   "provenance": [],
   "version": "0.3.2",
   "views": {}
  },
  "kernelspec": {
   "display_name": "Python 3",
   "language": "python",
   "name": "python3"
  },
  "language_info": {
   "codemirror_mode": {
    "name": "ipython",
    "version": 3
   },
   "file_extension": ".py",
   "mimetype": "text/x-python",
   "name": "python",
   "nbconvert_exporter": "python",
   "pygments_lexer": "ipython3",
   "version": "3.6.0"
  }
 },
 "nbformat": 4,
 "nbformat_minor": 1
}
