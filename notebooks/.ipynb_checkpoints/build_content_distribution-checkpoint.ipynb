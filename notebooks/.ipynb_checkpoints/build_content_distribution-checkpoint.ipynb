{
 "cells": [
  {
   "cell_type": "markdown",
   "metadata": {
    "colab_type": "text",
    "id": "LEB8l8EE6NJX"
   },
   "source": [
    "Extract from:\n",
    "\n",
    "Data Sources:\n",
    "- [NF Source](https://en.wikipedia.org/wiki/List_of_original_programs_distributed_by_Netflix)\n",
    "- [HL Source](https://en.wikipedia.org/wiki/List_of_original_programs_distributed_by_Netflix)\n",
    "- [HBO Source](https://en.wikipedia.org/wiki/List_of_original_programs_distributed_by_Netflix)"
   ]
  },
  {
   "cell_type": "code",
   "execution_count": 54,
   "metadata": {
    "colab": {
     "autoexec": {
      "startup": false,
      "wait_interval": 0
     }
    },
    "colab_type": "code",
    "id": "ek5RuWAl6NJY"
   },
   "outputs": [],
   "source": [
    "import pandas as pd\n",
    "import numpy as np\n",
    "from bs4 import BeautifulSoup\n",
    "import requests\n",
    "import re\n",
    "import seaborn as sns\n",
    "import tqdm\n",
    "import matplotlib.pyplot as plt"
   ]
  },
  {
   "cell_type": "markdown",
   "metadata": {
    "colab_type": "text",
    "id": "LjHIJN7VKpqd"
   },
   "source": [
    "Tools: \n",
    "- Get_Rotten: Extract Given URL\n",
    "- Get wiki: extract wiki contents "
   ]
  },
  {
   "cell_type": "code",
   "execution_count": 216,
   "metadata": {
    "colab": {
     "autoexec": {
      "startup": false,
      "wait_interval": 0
     }
    },
    "colab_type": "code",
    "id": "0kkQzzqCKhC2"
   },
   "outputs": [],
   "source": [
    "def get_rotten(rotten_loc):\n",
    "    finder = re.compile('[0-9]{1,3}')\n",
    "    missing = re.compile('Tomatometer Not Available...')\n",
    "\n",
    "  # Scrape\n",
    "    rotten_requested = requests.get(rotten_loc)\n",
    "    rotten_extract = rotten_requested.text\n",
    "    rotten_soup = BeautifulSoup(rotten_extract,'html5lib')\n",
    "\n",
    "    # Check 404\n",
    "    if rotten_soup.find('h1').get_text().strip() == '404 - Not Found':\n",
    "        return {'url':rotten_loc, 'critic':'-', 'audience':'-','status':'404'}\n",
    "\n",
    "    else:\n",
    "    # Critic\n",
    "        try:\n",
    "            crit = rotten_soup.find('div',{'id':'all-critics-numbers'})\n",
    "            # Check if Missing\n",
    "            if missing.search(crit.get_text()):\n",
    "                crit = '-'\n",
    "            # Extract critic if not missing\n",
    "            else:\n",
    "                crit = finder.search(crit.get_text()).group(0)\n",
    "            # if fail\n",
    "        except:\n",
    "            crit = '-'\n",
    "\n",
    "# Extract Audience\n",
    "    try: \n",
    "        aud = rotten_soup.find('div',{'class':'audience-score meter'})\n",
    "        aud = finder.search(aud.get_text()).group(0)\n",
    "    # If Fail\n",
    "    except:\n",
    "        aud = '-'                     \n",
    "    return {'url':rotten_loc, 'critic':crit, 'audience':aud,'status':'success'}\n",
    "  \n",
    "def get_wiki(wiki_loc):\n",
    "    \n",
    "    wiki_requested = requests.get(wiki_loc)\n",
    "    wiki_extract = wiki_requested.text\n",
    "    wiki_extract = wiki_extract.replace(\"/wiki/\",\"\")\n",
    "\n",
    "    wiki_soup = BeautifulSoup(wiki_extract,'html5lib')\n",
    "    wiki_tables = wiki_soup.find_all('table',{'class':'wikitable sortable'})\n",
    "\n",
    "    wiki_row_collected = []\n",
    "    for table in wiki_tables:\n",
    "        wiki_rows = table.find_all('tr')\n",
    "\n",
    "    for row in wiki_rows:\n",
    "        row = row.find_all('a')\n",
    "        row = [re.sub(r\"_\\(.+?\\)\",\"\", i.get('href').lower()) for i in row if '#' not in i.get('href')]\n",
    "        wiki_row_collected += [row]\n",
    "\n",
    "    return wiki_row_collected"
   ]
  },
  {
   "cell_type": "markdown",
   "metadata": {},
   "source": [
    "Data Scrape from WIki"
   ]
  },
  {
   "cell_type": "code",
   "execution_count": 242,
   "metadata": {
    "colab": {
     "autoexec": {
      "startup": false,
      "wait_interval": 0
     }
    },
    "colab_type": "code",
    "id": "AH41-_ta8--f"
   },
   "outputs": [],
   "source": [
    "test_1 = get_wiki(wiki_loc='https://en.wikipedia.org/wiki/List_of_original_programs_distributed_by_Hulu')\n",
    "test_2 = get_wiki(wiki_loc='https://en.wikipedia.org/wiki/List_of_original_programs_distributed_by_Netflix')\n",
    "test_3 = get_wiki(wiki_loc='https://en.wikipedia.org/wiki/List_of_programs_broadcast_by_HBO')[0:10]\n",
    "test_4 = get_wiki(wiki_loc = 'https://en.wikipedia.org/wiki/List_of_original_programs_distributed_by_Amazon')[0:10]"
   ]
  },
  {
   "cell_type": "markdown",
   "metadata": {},
   "source": [
    "Scrape ROtten"
   ]
  },
  {
   "cell_type": "code",
   "execution_count": 275,
   "metadata": {},
   "outputs": [],
   "source": [
    "regex = re.compile('[^a-zA-Z_0-9]')\n",
    "\n",
    "test_2_clean = []\n",
    "for i in test_2:\n",
    "    if len(i) ==4:\n",
    "        \n",
    "        content = i[0]\n",
    "        content = regex.sub('_',content)\n",
    "        content = content.replace(\"__\",\"_\")\n",
    "        url = \"https://www.rottentomatoes.com/tv/\" + content\n",
    "        test_2_clean += [[content, url, 'netflix']]\n",
    "    else:\n",
    "        continue\n",
    "netflix = pd.DataFrame(test_2_clean, columns = ['Title','URL','Source'])\n",
    "collected = []\n",
    "\n",
    "for oc in tqdm.tqdm(netflix.iterrows()):\n",
    "    time.sleep(np.random.uniform(0,4,1))\n",
    "    collected += [get_rotten(oc[1]['URL'])]\n",
    "    "
   ]
  },
  {
   "cell_type": "markdown",
   "metadata": {},
   "source": [
    "Make into Pandas Frame. \n",
    "\n",
    "To Do: make function"
   ]
  },
  {
   "cell_type": "code",
   "execution_count": 410,
   "metadata": {},
   "outputs": [],
   "source": [
    "netflix = pd.DataFrame(collected)\n",
    "netflix = netflix.apply(lambda x: np.where(x == '-',np.nan,x))\n",
    "netflix = netflix.astype({'audience':float, 'critic':float})\n",
    "netflix['spread'] = netflix['critic'] - netflix['audience']\n",
    "netflix = netflix.query(\"status != '404'\")\n",
    "netflix = netflix.query('spread.isnull() == False')\n",
    "netflix.rename(\n",
    "    columns = {\n",
    "        'audience':'Rotten Audience Score',\n",
    "        'critic':'Rotten Critic Score'\n",
    "              },\n",
    "    inplace = True\n",
    ")"
   ]
  },
  {
   "cell_type": "markdown",
   "metadata": {},
   "source": [
    "Build Descriptives:\n",
    "\n",
    "To Do: make Function for hulu "
   ]
  },
  {
   "cell_type": "code",
   "execution_count": 460,
   "metadata": {},
   "outputs": [
    {
     "data": {
      "text/html": [
       "<div>\n",
       "<style scoped>\n",
       "    .dataframe tbody tr th:only-of-type {\n",
       "        vertical-align: middle;\n",
       "    }\n",
       "\n",
       "    .dataframe tbody tr th {\n",
       "        vertical-align: top;\n",
       "    }\n",
       "\n",
       "    .dataframe thead th {\n",
       "        text-align: right;\n",
       "    }\n",
       "</style>\n",
       "<table border=\"1\" class=\"dataframe\">\n",
       "  <thead>\n",
       "    <tr style=\"text-align: right;\">\n",
       "      <th></th>\n",
       "      <th>Rotten Audience Score</th>\n",
       "      <th>Rotten Critic Score</th>\n",
       "      <th>spread</th>\n",
       "    </tr>\n",
       "  </thead>\n",
       "  <tbody>\n",
       "    <tr>\n",
       "      <th>count</th>\n",
       "      <td>32.00000</td>\n",
       "      <td>32.000000</td>\n",
       "      <td>32.000000</td>\n",
       "    </tr>\n",
       "    <tr>\n",
       "      <th>mean</th>\n",
       "      <td>80.68750</td>\n",
       "      <td>76.531250</td>\n",
       "      <td>-4.156250</td>\n",
       "    </tr>\n",
       "    <tr>\n",
       "      <th>std</th>\n",
       "      <td>14.19095</td>\n",
       "      <td>21.257233</td>\n",
       "      <td>20.472026</td>\n",
       "    </tr>\n",
       "    <tr>\n",
       "      <th>min</th>\n",
       "      <td>50.00000</td>\n",
       "      <td>17.000000</td>\n",
       "      <td>-51.000000</td>\n",
       "    </tr>\n",
       "    <tr>\n",
       "      <th>25%</th>\n",
       "      <td>71.50000</td>\n",
       "      <td>64.250000</td>\n",
       "      <td>-19.000000</td>\n",
       "    </tr>\n",
       "    <tr>\n",
       "      <th>50%</th>\n",
       "      <td>84.00000</td>\n",
       "      <td>82.000000</td>\n",
       "      <td>0.000000</td>\n",
       "    </tr>\n",
       "    <tr>\n",
       "      <th>75%</th>\n",
       "      <td>92.25000</td>\n",
       "      <td>92.500000</td>\n",
       "      <td>6.000000</td>\n",
       "    </tr>\n",
       "    <tr>\n",
       "      <th>max</th>\n",
       "      <td>100.00000</td>\n",
       "      <td>100.000000</td>\n",
       "      <td>44.000000</td>\n",
       "    </tr>\n",
       "  </tbody>\n",
       "</table>\n",
       "</div>"
      ],
      "text/plain": [
       "       Rotten Audience Score  Rotten Critic Score     spread\n",
       "count               32.00000            32.000000  32.000000\n",
       "mean                80.68750            76.531250  -4.156250\n",
       "std                 14.19095            21.257233  20.472026\n",
       "min                 50.00000            17.000000 -51.000000\n",
       "25%                 71.50000            64.250000 -19.000000\n",
       "50%                 84.00000            82.000000   0.000000\n",
       "75%                 92.25000            92.500000   6.000000\n",
       "max                100.00000           100.000000  44.000000"
      ]
     },
     "execution_count": 460,
     "metadata": {},
     "output_type": "execute_result"
    },
    {
     "data": {
      "image/png": "[encoded data removed]",
      "text/plain": [
       "<Figure size 720x288 with 1 Axes>"
      ]
     },
     "metadata": {},
     "output_type": "display_data"
    }
   ],
   "source": [
    "\n",
    "fig = plt.figure(figsize = (10,4))\n",
    "plt.title('distribution of Netflix show quality')\n",
    "sns.kdeplot(netflix['Rotten Audience Score'])\n",
    "sns.kdeplot(netflix['Rotten Critic Score'])\n",
    "# netflix['Rotten Critic Score'].hist()\n",
    "# netflix['Rotten Audience Score'].hist()\n",
    "netflix.describe()"
   ]
  }
 ],
 "metadata": {
  "colab": {
   "collapsed_sections": [],
   "default_view": {},
   "name": "build_content_distribution",
   "provenance": [],
   "version": "0.3.2",
   "views": {}
  },
  "kernelspec": {
   "display_name": "Python 3",
   "language": "python",
   "name": "python3"
  },
  "language_info": {
   "codemirror_mode": {
    "name": "ipython",
    "version": 3
   },
   "file_extension": ".py",
   "mimetype": "text/x-python",
   "name": "python",
   "nbconvert_exporter": "python",
   "pygments_lexer": "ipython3",
   "version": "3.6.4"
  }
 },
 "nbformat": 4,
 "nbformat_minor": 1
}
