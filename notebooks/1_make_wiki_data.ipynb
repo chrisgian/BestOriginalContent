{
 "cells": [
  {
   "cell_type": "code",
   "execution_count": null,
   "metadata": {},
   "outputs": [],
   "source": [
    "import pandas as pd\n",
    "import numpy as np\n",
    "from bs4 import BeautifulSoup\n",
    "import requests\n",
    "import re"
   ]
  },
  {
   "cell_type": "code",
   "execution_count": null,
   "metadata": {},
   "outputs": [],
   "source": [
    "\n",
    "def get_wiki(wiki_loc):\n",
    "    \n",
    "    wiki_requested = requests.get(wiki_loc)\n",
    "    wiki_extract = wiki_requested.text\n",
    "    wiki_extract = wiki_extract.replace(\"/wiki/\",\"\")\n",
    "\n",
    "    wiki_soup = BeautifulSoup(wiki_extract,'html5lib')\n",
    "    wiki_tables = wiki_soup.find_all('table',{'class':'wikitable sortable'})\n",
    "\n",
    "    wiki_row_collected = []\n",
    "    for table in wiki_tables:\n",
    "        wiki_rows = table.find_all('tr')\n",
    "\n",
    "    for row in wiki_rows:\n",
    "        row = row.find_all('a')\n",
    "        row = [re.sub(r\"_\\(.+?\\)\",\"\", i.get('href').lower()) for i in row if '#' not in i.get('href')]\n",
    "        wiki_row_collected += [row]\n",
    "\n",
    "    return wiki_row_collected"
   ]
  },
  {
   "cell_type": "code",
   "execution_count": null,
   "metadata": {},
   "outputs": [],
   "source": [
    "test_1 = get_wiki(wiki_loc='https://en.wikipedia.org/wiki/List_of_original_programs_distributed_by_Hulu')\n",
    "test_2 = get_wiki(wiki_loc='https://en.wikipedia.org/wiki/List_of_original_programs_distributed_by_Netflix')\n",
    "test_3 = get_wiki(wiki_loc='https://en.wikipedia.org/wiki/List_of_programs_broadcast_by_HBO')\n",
    "test_4 = get_wiki(wiki_loc = 'https://en.wikipedia.org/wiki/List_of_original_programs_distributed_by_Amazon')"
   ]
  }
 ],
 "metadata": {
  "kernelspec": {
   "display_name": "Python 3",
   "language": "python",
   "name": "python3"
  },
  "language_info": {
   "codemirror_mode": {
    "name": "ipython",
    "version": 3
   },
   "file_extension": ".py",
   "mimetype": "text/x-python",
   "name": "python",
   "nbconvert_exporter": "python",
   "pygments_lexer": "ipython3",
   "version": "3.6.0"
  }
 },
 "nbformat": 4,
 "nbformat_minor": 2
}
