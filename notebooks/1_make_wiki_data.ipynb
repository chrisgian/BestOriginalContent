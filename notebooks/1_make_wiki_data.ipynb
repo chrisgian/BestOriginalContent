{
 "cells": [
  {
   "cell_type": "markdown",
   "metadata": {},
   "source": [
    "### Load Modules"
   ]
  },
  {
   "cell_type": "code",
   "execution_count": null,
   "metadata": {},
   "outputs": [],
   "source": [
    "import pandas as pd\n",
    "import numpy as np\n",
    "from bs4 import BeautifulSoup\n",
    "import requests\n",
    "import re\n",
    "import pickle"
   ]
  },
  {
   "cell_type": "markdown",
   "metadata": {},
   "source": [
    "### Define Content Source"
   ]
  },
  {
   "cell_type": "code",
   "execution_count": null,
   "metadata": {},
   "outputs": [],
   "source": [
    "OC_source = [\n",
    "    ['hulu', 'https://en.wikipedia.org/wiki/List_of_original_programs_distributed_by_Hulu'],\n",
    "    ['netflix', 'https://en.wikipedia.org/wiki/List_of_original_programs_distributed_by_Netflix'],\n",
    "    ['amazon', 'https://en.wikipedia.org/wiki/List_of_original_programs_distributed_by_Amazon']\n",
    "]"
   ]
  },
  {
   "cell_type": "markdown",
   "metadata": {},
   "source": [
    "### Build Scrape tools"
   ]
  },
  {
   "cell_type": "code",
   "execution_count": 379,
   "metadata": {},
   "outputs": [],
   "source": [
    "def get_wiki(wiki_loc):\n",
    "    # request from url, then extract text\n",
    "    wiki_requested = requests.get(wiki_loc)\n",
    "    wiki_extract = wiki_requested.text\n",
    "    return wiki_extract\n",
    "\n",
    "def fix_wiki(wiki_extract):    \n",
    "    # Parse webpage\n",
    "    # find all tables\n",
    "    # identify tag names and retrieve corresponding attributes\n",
    "    # collect results and remove nulls\n",
    "    \n",
    "    wiki_soup = BeautifulSoup(wiki_extract,'html5lib')\n",
    "    wiki_tables = wiki_soup.find_all('table',{'class':'wikitable sortable'})\n",
    "    row_collect = []\n",
    "    try:\n",
    "        for i in wiki_tables:\n",
    "            table = i \n",
    "            table = table.find_all('tr')\n",
    "            for j in table:\n",
    "                contents = j.find_all(name = 'a', attrs={'href':re.compile(\"^(?!#)\")})\n",
    "                contents += j.find_all(name='span',attrs= {'class':'sorttext'})\n",
    "                contents = [i.text for i in contents]\n",
    "                row_collect +=[contents]\n",
    "    except: \n",
    "        print('Errorneous')\n",
    "    row_collect = [i for i in row_collect if len(i) != 0]\n",
    "    return row_collect"
   ]
  },
  {
   "cell_type": "markdown",
   "metadata": {},
   "source": [
    "### Execute"
   ]
  },
  {
   "cell_type": "code",
   "execution_count": 380,
   "metadata": {
    "scrolled": false
   },
   "outputs": [],
   "source": [
    "for i in OC_source:\n",
    "    extract = get_wiki(i[1])\n",
    "    cleanse = fix_wiki(extract)\n",
    "    i += [extract, cleanse]"
   ]
  },
  {
   "cell_type": "markdown",
   "metadata": {},
   "source": [
    "### Write"
   ]
  },
  {
   "cell_type": "code",
   "execution_count": 381,
   "metadata": {},
   "outputs": [],
   "source": [
    "with open('../data/raw/data.pkl', 'wb') as file:\n",
    "    pickle.dump(OC_source, file)"
   ]
  }
 ],
 "metadata": {
  "kernelspec": {
   "display_name": "Python 3",
   "language": "python",
   "name": "python3"
  },
  "language_info": {
   "codemirror_mode": {
    "name": "ipython",
    "version": 3
   },
   "file_extension": ".py",
   "mimetype": "text/x-python",
   "name": "python",
   "nbconvert_exporter": "python",
   "pygments_lexer": "ipython3",
   "version": "3.6.0"
  }
 },
 "nbformat": 4,
 "nbformat_minor": 2
}
