{
 "cells": [
  {
   "cell_type": "markdown",
   "metadata": {
    "colab_type": "text",
    "id": "LEB8l8EE6NJX"
   },
   "source": [
    "Purpose:\n",
    "\n",
    "Rate Content from Wiki Data"
   ]
  },
  {
   "cell_type": "code",
   "execution_count": 1,
   "metadata": {
    "colab": {
     "autoexec": {
      "startup": false,
      "wait_interval": 0
     }
    },
    "colab_type": "code",
    "id": "ek5RuWAl6NJY"
   },
   "outputs": [],
   "source": [
    "import pandas as pd\n",
    "import numpy as np\n",
    "from bs4 import BeautifulSoup\n",
    "import requests\n",
    "import re\n",
    "import seaborn as sns\n",
    "import tqdm\n",
    "import matplotlib.pyplot as plt"
   ]
  },
  {
   "cell_type": "code",
   "execution_count": 2,
   "metadata": {
    "colab": {
     "autoexec": {
      "startup": false,
      "wait_interval": 0
     }
    },
    "colab_type": "code",
    "id": "0kkQzzqCKhC2"
   },
   "outputs": [],
   "source": [
    "def get_rotten(rotten_loc):\n",
    "    finder = re.compile('[0-9]{1,3}')\n",
    "    missing = re.compile('Tomatometer Not Available...')\n",
    "\n",
    "  # Scrape\n",
    "    rotten_requested = requests.get(rotten_loc)\n",
    "    rotten_extract = rotten_requested.text\n",
    "    rotten_soup = BeautifulSoup(rotten_extract,'html5lib')\n",
    "\n",
    "    # Check 404\n",
    "    if rotten_soup.find('h1').get_text().strip() == '404 - Not Found':\n",
    "        return {'url':rotten_loc, 'critic':'-', 'audience':'-','status':'404'}\n",
    "\n",
    "    else:\n",
    "    # Critic\n",
    "        try:\n",
    "            crit = rotten_soup.find('div',{'id':'all-critics-numbers'})\n",
    "            # Check if Missing\n",
    "            if missing.search(crit.get_text()):\n",
    "                crit = '-'\n",
    "            # Extract critic if not missing\n",
    "            else:\n",
    "                crit = finder.search(crit.get_text()).group(0)\n",
    "            # if fail\n",
    "        except:\n",
    "            crit = '-'\n",
    "\n",
    "# Extract Audience\n",
    "    try: \n",
    "        aud = rotten_soup.find('div',{'class':'audience-score meter'})\n",
    "        aud = finder.search(aud.get_text()).group(0)\n",
    "    # If Fail\n",
    "    except:\n",
    "        aud = '-'                     \n",
    "    return {'url':rotten_loc, 'critic':crit, 'audience':aud,'status':'success'}\n",
    "  "
   ]
  },
  {
   "cell_type": "code",
   "execution_count": null,
   "metadata": {},
   "outputs": [],
   "source": [
    "regex = re.compile('[^a-zA-Z_0-9]')\n",
    "\n",
    "test_2_clean = []\n",
    "for i in test_2:\n",
    "    if len(i) ==4:\n",
    "        \n",
    "        content = i[0]\n",
    "        content = regex.sub('_',content)\n",
    "        content = content.replace(\"__\",\"_\")\n",
    "        url = \"https://www.rottentomatoes.com/tv/\" + content\n",
    "        test_2_clean += [[content, url, 'netflix']]\n",
    "    else:\n",
    "        continue\n",
    "netflix = pd.DataFrame(test_2_clean, columns = ['Title','URL','Source'])\n",
    "collected = []\n",
    "\n",
    "for oc in tqdm.tqdm(netflix.iterrows()):\n",
    "    time.sleep(np.random.uniform(0,4,1))\n",
    "    collected += [get_rotten(oc[1]['URL'])]\n",
    "    "
   ]
  }
 ],
 "metadata": {
  "colab": {
   "collapsed_sections": [],
   "default_view": {},
   "name": "build_content_distribution",
   "provenance": [],
   "version": "0.3.2",
   "views": {}
  },
  "kernelspec": {
   "display_name": "Python 3",
   "language": "python",
   "name": "python3"
  },
  "language_info": {
   "codemirror_mode": {
    "name": "ipython",
    "version": 3
   },
   "file_extension": ".py",
   "mimetype": "text/x-python",
   "name": "python",
   "nbconvert_exporter": "python",
   "pygments_lexer": "ipython3",
   "version": "3.6.0"
  }
 },
 "nbformat": 4,
 "nbformat_minor": 1
}
